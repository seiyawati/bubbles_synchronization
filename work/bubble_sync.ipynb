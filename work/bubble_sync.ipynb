{
 "cells": [
  {
   "cell_type": "code",
   "execution_count": 59,
   "metadata": {},
   "outputs": [
    {
     "name": "stdout",
     "output_type": "stream",
     "text": [
      "[0.0, 0.024893534183931972] [0.0, 0.0] [0.0, 0.0] [0.006737946999085467, 0.0033689734995427335] [0.0, 0.006737946999085467]\n"
     ]
    }
   ],
   "source": [
    "from data import control_data, liquid_data, bubble0, bubbles\n",
    "\n",
    "# control data\n",
    "nb = control_data.nb\n",
    "h = control_data.h\n",
    "Tmax = control_data.Tmax\n",
    "eps = control_data.eps\n",
    "Tprt = control_data.Tprt\n",
    "Xmin = control_data.Xmin\n",
    "Xmax = control_data.Xmax\n",
    "Xint = control_data.Xint\n",
    "\n",
    "# liquid data\n",
    "Rho_L = liquid_data.Rho_L\n",
    "Pinf = liquid_data.Pinf\n",
    "Va = liquid_data.Va\n",
    "\n",
    "# bubble common data\n",
    "Rref = bubble0.Rref\n",
    "Pref = bubble0.Pref\n",
    "sigma = bubble0.sigma\n",
    "kappa = bubble0.kappa\n",
    "Pv = bubble0.Pv\n",
    "\n",
    "# bubbles data\n",
    "bubbles = bubbles.bubbles\n",
    "\n",
    "# bubble data\n",
    "x = []\n",
    "y = []\n",
    "z = []\n",
    "R0 = []\n",
    "v0 = []\n",
    "\n",
    "for i in range(0, nb):\n",
    "    x.append(bubbles[i][\"x_\"])\n",
    "    y.append(bubbles[i][\"y_\"])\n",
    "    z.append(bubbles[i][\"z_\"])\n",
    "    R0.append(bubbles[i][\"R0_\"])\n",
    "    v0.append(bubbles[i][\"v0_\"])\n",
    "    \n",
    "Nt = int(Tmax / h) + 1\n",
    "    \n",
    "print(x, y , z, R0, v0)"
   ]
  },
  {
   "cell_type": "code",
   "execution_count": null,
   "metadata": {},
   "outputs": [],
   "source": []
  }
 ],
 "metadata": {
  "interpreter": {
   "hash": "aee8b7b246df8f9039afb4144a1f6fd8d2ca17a180786b69acc140d282b71a49"
  },
  "kernelspec": {
   "display_name": "Python 3.9.7 64-bit",
   "name": "python3"
  },
  "language_info": {
   "codemirror_mode": {
    "name": "ipython",
    "version": 3
   },
   "file_extension": ".py",
   "mimetype": "text/x-python",
   "name": "python",
   "nbconvert_exporter": "python",
   "pygments_lexer": "ipython3",
   "version": "3.9.7"
  }
 },
 "nbformat": 4,
 "nbformat_minor": 4
}
