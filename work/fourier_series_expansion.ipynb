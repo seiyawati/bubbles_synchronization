{
 "cells": [
  {
   "cell_type": "code",
   "execution_count": 5,
   "id": "c2cf6963-e483-4721-aaea-f4af528fb17f",
   "metadata": {},
   "outputs": [
    {
     "data": {
      "image/png": "[encoded data removed]",
      "text/latex": [
       "$\\displaystyle - \\frac{4 \\cos{\\left(x \\right)}}{\\pi} - \\frac{4 \\cos{\\left(3 x \\right)}}{9 \\pi} - \\frac{4 \\cos{\\left(5 x \\right)}}{25 \\pi} - \\frac{4 \\cos{\\left(7 x \\right)}}{49 \\pi} + \\frac{\\pi}{2}$"
      ],
      "text/plain": [
       "  4⋅cos(x)   4⋅cos(3⋅x)   4⋅cos(5⋅x)   4⋅cos(7⋅x)   π\n",
       "- ──────── - ────────── - ────────── - ────────── + ─\n",
       "     π          9⋅π          25⋅π         49⋅π      2"
      ]
     },
     "execution_count": 5,
     "metadata": {},
     "output_type": "execute_result"
    }
   ],
   "source": [
    "import sympy as sp\n",
    "\n",
    "x = sp.symbols('x')\n",
    "def c(m, x): \n",
    "    if m == 0: return 1/sp.sqrt(2*sp.pi)\n",
    "    else: return sp.cos(m*x)/sp.sqrt(sp.pi)\n",
    "def s(m, x): return sp.sin(m*x)/sp.sqrt(sp.pi)\n",
    "\n",
    "sp.init_printing()\n",
    "\n",
    "def f(x): return abs(x)\n",
    "def a(n): return sp.integrate(c(n,x)*f(x), (x, -sp.pi, sp.pi))\n",
    "def b(n): return sp.integrate(s(n,x)*f(x), (x, -sp.pi, sp.pi))\n",
    "\n",
    "A = []\n",
    "B = []\n",
    "for n in range(10):\n",
    "    A.append(a(n))\n",
    "    B.append(b(n))\n",
    "[A, B]"
   ]
  },
  {
   "cell_type": "code",
   "execution_count": null,
   "id": "531b193d-674e-4807-8eb0-67434014ef4e",
   "metadata": {},
   "outputs": [],
   "source": []
  }
 ],
 "metadata": {
  "kernelspec": {
   "display_name": "Python 3 (ipykernel)",
   "language": "python",
   "name": "python3"
  },
  "language_info": {
   "codemirror_mode": {
    "name": "ipython",
    "version": 3
   },
   "file_extension": ".py",
   "mimetype": "text/x-python",
   "name": "python",
   "nbconvert_exporter": "python",
   "pygments_lexer": "ipython3",
   "version": "3.9.7"
  }
 },
 "nbformat": 4,
 "nbformat_minor": 5
}
