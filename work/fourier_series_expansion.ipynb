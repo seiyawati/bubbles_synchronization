{
 "cells": [
  {
   "cell_type": "code",
   "execution_count": 6,
   "id": "c2cf6963-e483-4721-aaea-f4af528fb17f",
   "metadata": {},
   "outputs": [],
   "source": [
    "import sympy as sp\n",
    "\n",
    "x = sp.symbols('x')\n",
    "def c(m, x): \n",
    "    if m == 0: return 1/sp.sqrt(2*sp.pi)\n",
    "    else: return sp.cos(m*x)/sp.sqrt(sp.pi)\n",
    "def s(m, x): return sp.sin(m*x)/sp.sqrt(sp.pi)\n",
    "\n",
    "sp.init_printing()\n",
    "\n",
    "def f(x): return abs(x)\n",
    "def a(n): return sp.integrate(c(n,x)*f(x), (x, -sp.pi, sp.pi))\n",
    "def b(n): return sp.integrate(s(n,x)*f(x), (x, -sp.pi, sp.pi))"
   ]
  },
  {
   "cell_type": "code",
   "execution_count": 8,
   "id": "531b193d-674e-4807-8eb0-67434014ef4e",
   "metadata": {},
   "outputs": [
    {
     "data": {
      "image/png": "[encoded data removed]",
      "text/latex": [
       "$\\displaystyle \\left[ \\left[ \\frac{\\sqrt{2} \\pi^{\\frac{3}{2}}}{2}, \\  - \\frac{4}{\\sqrt{\\pi}}, \\  0, \\  - \\frac{4}{9 \\sqrt{\\pi}}, \\  0, \\  - \\frac{4}{25 \\sqrt{\\pi}}, \\  0, \\  - \\frac{4}{49 \\sqrt{\\pi}}, \\  0, \\  - \\frac{4}{81 \\sqrt{\\pi}}\\right], \\  \\left[ 0, \\  0, \\  0, \\  0, \\  0, \\  0, \\  0, \\  0, \\  0, \\  0\\right]\\right]$"
      ],
      "text/plain": [
       "⎡⎡    3/2                                            ⎤                        \n",
       "⎢⎢√2⋅π     -4      -4        -4        -4        -4  ⎥                        \n",
       "⎢⎢───────, ───, 0, ────, 0, ─────, 0, ─────, 0, ─────⎥, [0, 0, 0, 0, 0, 0, 0, \n",
       "⎣⎣   2      √π     9⋅√π     25⋅√π     49⋅√π     81⋅√π⎦                        \n",
       "\n",
       "        ⎤\n",
       "        ⎥\n",
       "0, 0, 0]⎥\n",
       "        ⎦"
      ]
     },
     "execution_count": 8,
     "metadata": {},
     "output_type": "execute_result"
    }
   ],
   "source": [
    "A = []\n",
    "B = []\n",
    "for n in range(10):\n",
    "    A.append(a(n))\n",
    "    B.append(b(n))\n",
    "[A, B]"
   ]
  },
  {
   "cell_type": "code",
   "execution_count": 10,
   "id": "383099ef-4671-4202-b429-4204688bb005",
   "metadata": {},
   "outputs": [
    {
     "data": {
      "image/png": "[encoded data removed]",
      "text/latex": [
       "$\\displaystyle - \\frac{4 \\cos{\\left(x \\right)}}{\\pi} - \\frac{4 \\cos{\\left(3 x \\right)}}{9 \\pi} - \\frac{4 \\cos{\\left(5 x \\right)}}{25 \\pi} - \\frac{4 \\cos{\\left(7 x \\right)}}{49 \\pi} + \\frac{\\pi}{2}$"
      ],
      "text/plain": [
       "  4⋅cos(x)   4⋅cos(3⋅x)   4⋅cos(5⋅x)   4⋅cos(7⋅x)   π\n",
       "- ──────── - ────────── - ────────── - ────────── + ─\n",
       "     π          9⋅π          25⋅π         49⋅π      2"
      ]
     },
     "execution_count": 10,
     "metadata": {},
     "output_type": "execute_result"
    }
   ],
   "source": [
    "# フーリエ級数展開\n",
    "ff = sp.fourier_series(f(x), (x, -sp.pi, sp.pi)).truncate(5)  \n",
    "# truncate( ) で表示する展開の次数を指定\n",
    "ff"
   ]
  },
  {
   "cell_type": "code",
   "execution_count": null,
   "id": "c54f7a28-b09f-4301-89c2-522483efcbe8",
   "metadata": {},
   "outputs": [],
   "source": []
  }
 ],
 "metadata": {
  "kernelspec": {
   "display_name": "Python 3 (ipykernel)",
   "language": "python",
   "name": "python3"
  },
  "language_info": {
   "codemirror_mode": {
    "name": "ipython",
    "version": 3
   },
   "file_extension": ".py",
   "mimetype": "text/x-python",
   "name": "python",
   "nbconvert_exporter": "python",
   "pygments_lexer": "ipython3",
   "version": "3.9.7"
  }
 },
 "nbformat": 4,
 "nbformat_minor": 5
}
