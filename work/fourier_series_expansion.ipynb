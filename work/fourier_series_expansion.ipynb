{
 "cells": [
  {
   "cell_type": "code",
   "execution_count": 6,
   "id": "c2cf6963-e483-4721-aaea-f4af528fb17f",
   "metadata": {},
   "outputs": [],
   "source": [
    "import sympy as sp\n",
    "\n",
    "x = sp.symbols('x')\n",
    "def c(m, x): \n",
    "    if m == 0: return 1/sp.sqrt(2*sp.pi)\n",
    "    else: return sp.cos(m*x)/sp.sqrt(sp.pi)\n",
    "def s(m, x): return sp.sin(m*x)/sp.sqrt(sp.pi)\n",
    "\n",
    "sp.init_printing()\n",
    "\n",
    "def f(x): return abs(x)\n",
    "def a(n): return sp.integrate(c(n,x)*f(x), (x, -sp.pi, sp.pi))\n",
    "def b(n): return sp.integrate(s(n,x)*f(x), (x, -sp.pi, sp.pi))"
   ]
  },
  {
   "cell_type": "code",
   "execution_count": 11,
   "id": "531b193d-674e-4807-8eb0-67434014ef4e",
   "metadata": {},
   "outputs": [
    {
     "data": {
      "image/png": "[encoded data removed]",
      "text/latex": [
       "$\\displaystyle \\left[ \\left[ \\frac{\\sqrt{2} \\pi^{\\frac{3}{2}}}{2}, \\  - \\frac{4}{\\sqrt{\\pi}}, \\  0, \\  - \\frac{4}{9 \\sqrt{\\pi}}, \\  0, \\  - \\frac{4}{25 \\sqrt{\\pi}}, \\  0, \\  - \\frac{4}{49 \\sqrt{\\pi}}, \\  0, \\  - \\frac{4}{81 \\sqrt{\\pi}}\\right], \\  \\left[ 0, \\  0, \\  0, \\  0, \\  0, \\  0, \\  0, \\  0, \\  0, \\  0\\right]\\right]$"
      ],
      "text/plain": [
       "⎡⎡    3/2                                            ⎤                        \n",
       "⎢⎢√2⋅π     -4      -4        -4        -4        -4  ⎥                        \n",
       "⎢⎢───────, ───, 0, ────, 0, ─────, 0, ─────, 0, ─────⎥, [0, 0, 0, 0, 0, 0, 0, \n",
       "⎣⎣   2      √π     9⋅√π     25⋅√π     49⋅√π     81⋅√π⎦                        \n",
       "\n",
       "        ⎤\n",
       "        ⎥\n",
       "0, 0, 0]⎥\n",
       "        ⎦"
      ]
     },
     "execution_count": 11,
     "metadata": {},
     "output_type": "execute_result"
    }
   ],
   "source": [
    "A = []\n",
    "B = []\n",
    "for n in range(10):\n",
    "    A.append(a(n))\n",
    "    B.append(b(n))\n",
    "[A, B]"
   ]
  },
  {
   "cell_type": "code",
   "execution_count": 12,
   "id": "0485addf-b31d-47d1-8da2-4aec160ec995",
   "metadata": {},
   "outputs": [
    {
     "data": {
      "image/png": "[encoded data removed]",
      "text/latex": [
       "$\\displaystyle - \\frac{4 \\cos{\\left(x \\right)}}{\\pi} - \\frac{4 \\cos{\\left(3 x \\right)}}{9 \\pi} - \\frac{4 \\cos{\\left(5 x \\right)}}{25 \\pi} - \\frac{4 \\cos{\\left(7 x \\right)}}{49 \\pi} + \\frac{\\pi}{2}$"
      ],
      "text/plain": [
       "  4⋅cos(x)   4⋅cos(3⋅x)   4⋅cos(5⋅x)   4⋅cos(7⋅x)   π\n",
       "- ──────── - ────────── - ────────── - ────────── + ─\n",
       "     π          9⋅π          25⋅π         49⋅π      2"
      ]
     },
     "execution_count": 12,
     "metadata": {},
     "output_type": "execute_result"
    }
   ],
   "source": [
    "# 連続的な関数のフーリエ級数展開\n",
    "ff = sp.fourier_series(f(x), (x, -sp.pi, sp.pi)).truncate(5)  \n",
    "# truncate( ) で表示する展開の次数を指定\n",
    "ff"
   ]
  },
  {
   "cell_type": "code",
   "execution_count": 29,
   "id": "c54f7a28-b09f-4301-89c2-522483efcbe8",
   "metadata": {},
   "outputs": [
    {
     "data": {
      "image/png": "[encoded data removed]",
      "text/latex": [
       "$\\displaystyle \\left[ \\left[ \\frac{\\sqrt{2} \\sqrt{\\pi}}{2}, \\  0, \\  0, \\  0, \\  0, \\  0, \\  0, \\  0, \\  0, \\  0, \\  0, \\  0, \\  0, \\  0, \\  0, \\  0, \\  0, \\  0, \\  0, \\  0\\right], \\  \\left[ 0, \\  0, \\  - \\frac{2}{\\sqrt{\\pi}}, \\  0, \\  0, \\  0, \\  - \\frac{2}{3 \\sqrt{\\pi}}, \\  0, \\  0, \\  0, \\  - \\frac{2}{5 \\sqrt{\\pi}}, \\  0, \\  0, \\  0, \\  - \\frac{2}{7 \\sqrt{\\pi}}, \\  0, \\  0, \\  0, \\  - \\frac{2}{9 \\sqrt{\\pi}}, \\  0\\right]\\right]$"
      ],
      "text/plain": [
       "⎡⎡√2⋅√π                                                         ⎤  ⎡      -2  \n",
       "⎢⎢─────, 0, 0, 0, 0, 0, 0, 0, 0, 0, 0, 0, 0, 0, 0, 0, 0, 0, 0, 0⎥, ⎢0, 0, ───,\n",
       "⎣⎣  2                                                           ⎦  ⎣       √π \n",
       "\n",
       "          -2             -2             -2             -2     ⎤⎤\n",
       " 0, 0, 0, ────, 0, 0, 0, ────, 0, 0, 0, ────, 0, 0, 0, ────, 0⎥⎥\n",
       "          3⋅√π           5⋅√π           7⋅√π           9⋅√π   ⎦⎦"
      ]
     },
     "execution_count": 29,
     "metadata": {},
     "output_type": "execute_result"
    }
   ],
   "source": [
    "def f(x): return 1\n",
    "def g(x): return 0\n",
    "\n",
    "def a1(n): return sp.integrate(c(n,x)*f(x), (x, -sp.pi, 0))\n",
    "def a2(n): return sp.integrate(c(n,x)*g(x), (x, 0, sp.pi))\n",
    "def b1(n): return sp.integrate(s(n,x)*f(x), (x, -sp.pi, 0))\n",
    "def b2(n): return sp.integrate(s(n,x)*g(x), (x, 0, sp.pi))\n",
    "\n",
    "\n",
    "A = []\n",
    "B = []\n",
    "for n in range(10):\n",
    "    A.append(a1(n))\n",
    "    A.append(a2(n))\n",
    "    B.append(b1(n))\n",
    "    B.append(b2(n))\n",
    "[A, B]"
   ]
  },
  {
   "cell_type": "code",
   "execution_count": 20,
   "id": "d310fa34-ca80-4ae6-847c-0501e70e921e",
   "metadata": {},
   "outputs": [
    {
     "name": "stdout",
     "output_type": "stream",
     "text": [
      "-9.42477796076938\n"
     ]
    }
   ],
   "source": [
    "print(-math.pi*3)\n"
   ]
  },
  {
   "cell_type": "code",
   "execution_count": null,
   "id": "dc85bcac-dcd9-4014-a408-70af53229a49",
   "metadata": {},
   "outputs": [],
   "source": []
  }
 ],
 "metadata": {
  "kernelspec": {
   "display_name": "Python 3 (ipykernel)",
   "language": "python",
   "name": "python3"
  },
  "language_info": {
   "codemirror_mode": {
    "name": "ipython",
    "version": 3
   },
   "file_extension": ".py",
   "mimetype": "text/x-python",
   "name": "python",
   "nbconvert_exporter": "python",
   "pygments_lexer": "ipython3",
   "version": "3.9.7"
  }
 },
 "nbformat": 4,
 "nbformat_minor": 5
}
