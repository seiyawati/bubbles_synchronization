{
 "cells": [
  {
   "cell_type": "code",
   "execution_count": 4,
   "id": "941ab940-c9da-4395-be05-bd1944218c6b",
   "metadata": {
    "tags": []
   },
   "outputs": [
    {
     "name": "stdout",
     "output_type": "stream",
     "text": [
      "Hello Workd\n"
     ]
    }
   ],
   "source": [
    "print(\"Hello Workd\")"
   ]
  },
  {
   "cell_type": "code",
   "execution_count": null,
   "id": "ce50d4b3-cd0e-4925-bd00-a1e2a745ed1f",
   "metadata": {},
   "outputs": [],
   "source": []
  }
 ],
 "metadata": {
  "kernelspec": {
   "display_name": "Python 3 (ipykernel)",
   "language": "python",
   "name": "python3"
  },
  "language_info": {
   "codemirror_mode": {
    "name": "ipython",
    "version": 3
   },
   "file_extension": ".py",
   "mimetype": "text/x-python",
   "name": "python",
   "nbconvert_exporter": "python",
   "pygments_lexer": "ipython3",
   "version": "3.9.7"
  }
 },
 "nbformat": 4,
 "nbformat_minor": 5
}
